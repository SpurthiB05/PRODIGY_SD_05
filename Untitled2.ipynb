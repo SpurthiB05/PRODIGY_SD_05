{
  "nbformat": 4,
  "nbformat_minor": 0,
  "metadata": {
    "colab": {
      "provenance": [],
      "authorship_tag": "ABX9TyNUmch/JiaMxgClli+u6yPj",
      "include_colab_link": true
    },
    "kernelspec": {
      "name": "python3",
      "display_name": "Python 3"
    },
    "language_info": {
      "name": "python"
    }
  },
  "cells": [
    {
      "cell_type": "markdown",
      "metadata": {
        "id": "view-in-github",
        "colab_type": "text"
      },
      "source": [
        "<a href=\"https://colab.research.google.com/github/SpurthiB05/PRODIGY_SD_05/blob/main/Untitled2.ipynb\" target=\"_parent\"><img src=\"https://colab.research.google.com/assets/colab-badge.svg\" alt=\"Open In Colab\"/></a>"
      ]
    },
    {
      "cell_type": "code",
      "execution_count": 5,
      "metadata": {
        "colab": {
          "base_uri": "https://localhost:8080/"
        },
        "id": "Knu4R1Qcqr7C",
        "outputId": "6ebba8a6-14a7-4f37-e4a9-be760dd3ef6a"
      },
      "outputs": [
        {
          "output_type": "stream",
          "name": "stdout",
          "text": [
            "Guess a number between 1 and 100: 99\n",
            "Too high! Try again.\n"
          ]
        }
      ],
      "source": [
        "import random\n",
        "\n",
        "def guess_the_number():\n",
        "    secret_number = random.randint(1, 100)\n",
        "    attempts = 0\n",
        "    while True:\n",
        "      user_guess = int(input(\"Guess a number between 1 and 100: \"))\n",
        "      attempts += 1\n",
        "      if user_guess < secret_number:\n",
        "        print(\"Too low! Try again.\")\n",
        "      elif user_guess > secret_number:\n",
        "        print(\"Too high! Try again.\")\n",
        "      else:\n",
        "        print(f\" Congratulations! You guessed the number in {attempts} attempts.\")\n",
        "      break\n",
        "\n",
        "if __name__ == \"__main__\":\n",
        "    guess_the_number()"
      ]
    }
  ]
}